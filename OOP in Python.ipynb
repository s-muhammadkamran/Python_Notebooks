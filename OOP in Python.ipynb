{
 "cells": [
  {
   "cell_type": "markdown",
   "id": "5ade16d5",
   "metadata": {},
   "source": [
    "# OOPS in Python"
   ]
  },
  {
   "cell_type": "markdown",
   "id": "48d455b7",
   "metadata": {},
   "source": [
    "## Creating and Instantiating a Class in Python"
   ]
  },
  {
   "cell_type": "code",
   "execution_count": 1,
   "id": "08260dd6",
   "metadata": {},
   "outputs": [
    {
     "name": "stdout",
     "output_type": "stream",
     "text": [
      "<class '__main__.Car'>\n",
      "<class '__main__.Car'>\n"
     ]
    }
   ],
   "source": [
    "class Car:\n",
    "    pass\n",
    "\n",
    "audi = Car()\n",
    "bmw = Car()\n",
    "\n",
    "print(type(audi))\n",
    "print(type(bmw))"
   ]
  },
  {
   "cell_type": "code",
   "execution_count": 2,
   "id": "4381ff5b",
   "metadata": {},
   "outputs": [
    {
     "name": "stdout",
     "output_type": "stream",
     "text": [
      "<__main__.Car object at 0x000001EFA8F17800>\n",
      "<__main__.Car object at 0x000001EFA8F17F80>\n"
     ]
    }
   ],
   "source": [
    "print(audi)\n",
    "print(bmw)"
   ]
  },
  {
   "cell_type": "markdown",
   "id": "67293e8b",
   "metadata": {},
   "source": [
    "## Class Attributes"
   ]
  },
  {
   "cell_type": "markdown",
   "id": "0f3429a7",
   "metadata": {},
   "source": [
    "### Constructor"
   ]
  },
  {
   "cell_type": "code",
   "execution_count": 3,
   "id": "1959cf8e",
   "metadata": {},
   "outputs": [
    {
     "name": "stdout",
     "output_type": "stream",
     "text": [
      "We are in the constructor GS, 2\n",
      "We are in the constructor GR, 3\n",
      "Dog\n",
      "Dog\n",
      "Wolf\n",
      "Dog\n"
     ]
    }
   ],
   "source": [
    "class Dog:\n",
    "    baseType: str = \"Dog\"\n",
    "    def __init__(self, breed: str, age: int):\n",
    "        self.breed = breed\n",
    "        self.age = age\n",
    "        print(f\"We are in the constructor {self.breed}, {self.age}\")\n",
    "\n",
    "gs= Dog(\"GS\", 2)\n",
    "gr = Dog(\"GR\", 3)\n",
    "\n",
    "print(gs.baseType)\n",
    "print(gr.baseType)\n",
    "\n",
    "gs.baseType = \"Wolf\"\n",
    "\n",
    "print(gs.baseType)\n",
    "print(gr.baseType)\n",
    "         "
   ]
  },
  {
   "cell_type": "code",
   "execution_count": 4,
   "id": "f127ac05",
   "metadata": {},
   "outputs": [
    {
     "name": "stdout",
     "output_type": "stream",
     "text": [
      "Refsnes\n",
      "Refsnes\n",
      "Testing\n",
      "Refsnes\n"
     ]
    }
   ],
   "source": [
    "class Person:\n",
    "  lastname = \"\"\n",
    "\n",
    "  def __init__(self, name):\n",
    "    self.name = name\n",
    "\n",
    "p1 = Person(\"Linus\")\n",
    "p2 = Person(\"Emil\")\n",
    "\n",
    "Person.lastname = \"Refsnes\"\n",
    "\n",
    "print(p1.lastname)\n",
    "print(p2.lastname)\n",
    "\n",
    "p1.lastname = \"Testing\"\n",
    "\n",
    "print(p1.lastname)\n",
    "print(p2.lastname)"
   ]
  },
  {
   "cell_type": "markdown",
   "id": "54ea48c1",
   "metadata": {},
   "source": [
    "### `__str__` method"
   ]
  },
  {
   "cell_type": "code",
   "execution_count": 5,
   "id": "3fee5b5b",
   "metadata": {},
   "outputs": [
    {
     "name": "stdout",
     "output_type": "stream",
     "text": [
      "Name=Abudi, Age=13\n"
     ]
    }
   ],
   "source": [
    "class Person:\n",
    "    def __init__(self, name, age):\n",
    "        self.name = name\n",
    "        self.age = age\n",
    "\n",
    "    def __str__(self):\n",
    "        return f\"Name={self.name}, Age={self.age}\"\n",
    "    \n",
    "p = Person(\"Abudi\", 13)\n",
    "print(p)"
   ]
  },
  {
   "cell_type": "markdown",
   "id": "2a3e464f",
   "metadata": {},
   "source": [
    "## Inheritance\n",
    "\n",
    "By default class will inherit all the methods and properties of the parent class including the constructor"
   ]
  },
  {
   "cell_type": "code",
   "execution_count": 6,
   "id": "13f5abca",
   "metadata": {},
   "outputs": [],
   "source": [
    "class LivingThing:\n",
    "    def __init__(self, name, job):\n",
    "        self.name = name\n",
    "        self.job = job\n",
    "        self.__version = \"1.0.0\" # This is private to class\n",
    "\n",
    "    def __str__(self):\n",
    "        return f\"{self.name} is {self.job}\"\n",
    "    \n",
    "    def __get_version(self):\n",
    "        return self.__version\n",
    "\n",
    "class Student(LivingThing):\n",
    "    pass\n",
    "\n",
    "class Worker(LivingThing):\n",
    "    pass"
   ]
  },
  {
   "cell_type": "markdown",
   "id": "1a210b03",
   "metadata": {},
   "source": [
    "### Multiple Inheritance"
   ]
  },
  {
   "cell_type": "code",
   "execution_count": 8,
   "id": "04d8ed4e",
   "metadata": {},
   "outputs": [],
   "source": [
    "class Animal:\n",
    "    def __init__ (self, name):\n",
    "        self.name = name\n",
    "\n",
    "    def __str__(self):\n",
    "        return self.name\n",
    "\n",
    "class Pet:\n",
    "    def __init__ (self, owner):\n",
    "        self.owner = owner\n",
    "    \n",
    "    def __str__(self):\n",
    "        return self.owner\n",
    "\n",
    "class Cat(Animal, Pet):\n",
    "    def __init__(self, name, owner):\n",
    "        Animal.__init__(self, name)\n",
    "        Pet.__init__(self, owner)   \n",
    "\n",
    "    def __str__(self):\n",
    "        return f\"{self.name}:{self.owner}\"  "
   ]
  },
  {
   "cell_type": "code",
   "execution_count": 9,
   "id": "1f45cbdb",
   "metadata": {},
   "outputs": [
    {
     "name": "stdout",
     "output_type": "stream",
     "text": [
      "Himaliyan:Rashid\n"
     ]
    }
   ],
   "source": [
    "cat = Cat(\"Himaliyan\", \"Rashid\")\n",
    "print(cat)"
   ]
  },
  {
   "cell_type": "markdown",
   "id": "ba4198ab",
   "metadata": {},
   "source": [
    "## Polymorphism\n",
    "\n",
    "When you define the Constructor in the child class you'll have to call the parent constructor using super() method in order to correctly initilize and use the properties and functions inherited from parents.\n",
    "\n",
    "You can override the functions inherited from parents by defining the function in the child class using the similar funciton signature of the parent class.\n",
    "\n",
    "Python don't support Function Overloading by signature. You can't have functions with similar names in a python class hierarchy or single python classwith different parameters. When you try to overload, the last definition with the same name survives.\n",
    "\n",
    "For overloading purpose you can use the *arg (list) or **kwargs (dict) based parameter in a function to simulate overloading."
   ]
  },
  {
   "cell_type": "code",
   "execution_count": 7,
   "id": "03e57e3f",
   "metadata": {},
   "outputs": [],
   "source": [
    "class Alien(LivingThing):\n",
    "    def __init__(self, name, starSystem: str):\n",
    "        super().__init__(name, \"\")\n",
    "        self.starSystem = starSystem\n",
    "\n",
    "    def __str__(self):\n",
    "        return f\"{self.name} is from {self.starSystem}\""
   ]
  },
  {
   "cell_type": "code",
   "execution_count": 8,
   "id": "04b44448",
   "metadata": {},
   "outputs": [
    {
     "name": "stdout",
     "output_type": "stream",
     "text": [
      "Worker is Working\n"
     ]
    }
   ],
   "source": [
    "import random\n",
    "\n",
    "persons_list = [\n",
    "    LivingThing(\"LivingThing\", \"Living\"), \n",
    "    Student(\"Student\", \"Studying\"), \n",
    "    Worker(\"Worker\", \"Working\"),\n",
    "    Alien(\"BumbleBee\", \"Omega\")\n",
    "]\n",
    "\n",
    "print(random.choice(persons_list))"
   ]
  },
  {
   "cell_type": "markdown",
   "id": "dc3fbc83",
   "metadata": {},
   "source": [
    "## Encapsulation"
   ]
  },
  {
   "cell_type": "markdown",
   "id": "71916b0b",
   "metadata": {},
   "source": [
    "These code are meant to throw error to demonstrate encapsulation"
   ]
  },
  {
   "cell_type": "code",
   "execution_count": 9,
   "id": "e223afcf",
   "metadata": {},
   "outputs": [
    {
     "ename": "AttributeError",
     "evalue": "'Student' object has no attribute '__version'",
     "output_type": "error",
     "traceback": [
      "\u001b[1;31m---------------------------------------------------------------------------\u001b[0m",
      "\u001b[1;31mAttributeError\u001b[0m                            Traceback (most recent call last)",
      "Cell \u001b[1;32mIn[9], line 5\u001b[0m\n\u001b[0;32m      1\u001b[0m st1 \u001b[38;5;241m=\u001b[39m Student(\u001b[38;5;124m\"\u001b[39m\u001b[38;5;124mStudent\u001b[39m\u001b[38;5;124m\"\u001b[39m, \u001b[38;5;124m\"\u001b[39m\u001b[38;5;124mStudy\u001b[39m\u001b[38;5;124m\"\u001b[39m)\n\u001b[0;32m      3\u001b[0m \u001b[38;5;66;03m# This will throw an error as the __version is private to LivingThing\u001b[39;00m\n\u001b[0;32m      4\u001b[0m \u001b[38;5;66;03m# Anything defined with __ is set as private.\u001b[39;00m\n\u001b[1;32m----> 5\u001b[0m \u001b[38;5;28mprint\u001b[39m(\u001b[43mst1\u001b[49m\u001b[38;5;241;43m.\u001b[39;49m\u001b[43m__version\u001b[49m) \n",
      "\u001b[1;31mAttributeError\u001b[0m: 'Student' object has no attribute '__version'"
     ]
    }
   ],
   "source": [
    "st1 = Student(\"Student\", \"Study\")\n",
    "\n",
    "# This will throw an error as the __version is private to LivingThing\n",
    "# Anything defined with __ is set as private.\n",
    "print(st1.__version) "
   ]
  },
  {
   "cell_type": "code",
   "execution_count": null,
   "id": "7377c72c",
   "metadata": {},
   "outputs": [
    {
     "ename": "AttributeError",
     "evalue": "'Student' object has no attribute '__get_version'",
     "output_type": "error",
     "traceback": [
      "\u001b[1;31m---------------------------------------------------------------------------\u001b[0m",
      "\u001b[1;31mAttributeError\u001b[0m                            Traceback (most recent call last)",
      "Cell \u001b[1;32mIn[136], line 3\u001b[0m\n\u001b[0;32m      1\u001b[0m \u001b[38;5;66;03m# This will also throw an error since __get_version is private\u001b[39;00m\n\u001b[0;32m      2\u001b[0m \u001b[38;5;66;03m# Anything defined with __ is set as private.\u001b[39;00m\n\u001b[1;32m----> 3\u001b[0m \u001b[38;5;28mprint\u001b[39m(\u001b[43mst1\u001b[49m\u001b[38;5;241;43m.\u001b[39;49m\u001b[43m__get_version\u001b[49m())\n",
      "\u001b[1;31mAttributeError\u001b[0m: 'Student' object has no attribute '__get_version'"
     ]
    }
   ],
   "source": [
    "# This will also throw an error since __get_version is private\n",
    "# Anything defined with __ is set as private.\n",
    "print(st1.__get_version())"
   ]
  },
  {
   "cell_type": "markdown",
   "id": "cc00568c",
   "metadata": {},
   "source": [
    "## Inner Classes"
   ]
  },
  {
   "cell_type": "code",
   "execution_count": null,
   "id": "d0b5779f",
   "metadata": {},
   "outputs": [],
   "source": [
    "class Outer:\n",
    "  def __init__(self):\n",
    "    self.name = \"Outer Class\"\n",
    "\n",
    "  class Inner:\n",
    "    def __init__(self):\n",
    "      self.name = \"Inner Class\"\n",
    "\n",
    "    def display(self):\n",
    "      print(\"This is the inner class\")"
   ]
  },
  {
   "cell_type": "markdown",
   "id": "68a237bd",
   "metadata": {},
   "source": [
    "You need object of the Outer class to access the Inner class."
   ]
  },
  {
   "cell_type": "code",
   "execution_count": null,
   "id": "c5969eed",
   "metadata": {},
   "outputs": [
    {
     "name": "stdout",
     "output_type": "stream",
     "text": [
      "Outer Class\n",
      "This is the inner class\n"
     ]
    }
   ],
   "source": [
    "outer = Outer()\n",
    "print(outer.name)\n",
    "\n",
    "inner = outer.Inner()\n",
    "inner.display()"
   ]
  },
  {
   "cell_type": "markdown",
   "id": "3a92a017",
   "metadata": {},
   "source": [
    "Inner Classes doesn't automatically have access to outer class and vice versa. You need to pass the reference of the outer class to inner class."
   ]
  },
  {
   "cell_type": "code",
   "execution_count": null,
   "id": "19b03d4f",
   "metadata": {},
   "outputs": [],
   "source": [
    "class Outer:\n",
    "  def __init__(self):\n",
    "    self.name = \"Emil\"\n",
    "\n",
    "  class Inner:\n",
    "    def __init__(self, outer):\n",
    "      self.outer = outer\n",
    "\n",
    "    def display(self):\n",
    "      print(f\"Outer class name: {self.outer.name}\")"
   ]
  },
  {
   "cell_type": "code",
   "execution_count": null,
   "id": "7a8b4db2",
   "metadata": {},
   "outputs": [
    {
     "name": "stdout",
     "output_type": "stream",
     "text": [
      "Outer class name: Emil\n"
     ]
    }
   ],
   "source": [
    "outer = Outer()\n",
    "inner = outer.Inner(outer)\n",
    "inner.display()"
   ]
  }
 ],
 "metadata": {
  "kernelspec": {
   "display_name": "base",
   "language": "python",
   "name": "python3"
  },
  "language_info": {
   "codemirror_mode": {
    "name": "ipython",
    "version": 3
   },
   "file_extension": ".py",
   "mimetype": "text/x-python",
   "name": "python",
   "nbconvert_exporter": "python",
   "pygments_lexer": "ipython3",
   "version": "3.12.7"
  }
 },
 "nbformat": 4,
 "nbformat_minor": 5
}
